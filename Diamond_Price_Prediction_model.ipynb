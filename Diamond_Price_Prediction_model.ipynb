{
  "nbformat": 4,
  "nbformat_minor": 0,
  "metadata": {
    "colab": {
      "provenance": []
    },
    "kernelspec": {
      "name": "python3",
      "display_name": "Python 3"
    },
    "language_info": {
      "name": "python"
    }
  },
  "cells": [
    {
      "cell_type": "code",
      "execution_count": null,
      "metadata": {
        "id": "eQ9OOQ_5DC-U"
      },
      "outputs": [],
      "source": [
        "import numpy as np \n",
        "import pandas as pd \n",
        "import seaborn as sns\n",
        "import matplotlib as mpl\n",
        "import matplotlib.pyplot as plt\n",
        "import matplotlib.pylab as pylab\n",
        "from scipy import stats\n",
        "from scipy.stats import norm, skew\n",
        "from sklearn import preprocessing\n",
        "#preprocessing :\n",
        "from sklearn.impute import SimpleImputer\n",
        "from sklearn.preprocessing import MinMaxScaler , StandardScaler, LabelEncoder\n",
        "from sklearn.model_selection import train_test_split\n",
        "\n",
        "\n",
        "from sklearn.ensemble import RandomForestRegressor\n",
        "from sklearn.preprocessing import  Normalizer , scale\n",
        "from sklearn.model_selection import train_test_split\n",
        "from sklearn.feature_selection import RFECV\n",
        "from sklearn.model_selection import GridSearchCV , KFold , cross_val_score\n",
        "from sklearn.metrics import r2_score"
      ]
    },
    {
      "cell_type": "code",
      "source": [
        "df = pd.read_csv('train.csv')\n",
        "df.drop('Id',axis=1,inplace=True)"
      ],
      "metadata": {
        "id": "K9wBcFttDLdi"
      },
      "execution_count": null,
      "outputs": []
    },
    {
      "cell_type": "code",
      "source": [
        "df.loc[df[(df['z']==0)].index,'z']=df['z'].median()\n",
        "df.loc[df[df['x']==0].index,'x']=df['x'].median()\n",
        "df.loc[df[(df['y']==0)].index,'y']=df['y'].median() "
      ],
      "metadata": {
        "id": "XwOX32evDe5_"
      },
      "execution_count": null,
      "outputs": []
    },
    {
      "cell_type": "code",
      "source": [
        "df.describe()"
      ],
      "metadata": {
        "colab": {
          "base_uri": "https://localhost:8080/",
          "height": 300
        },
        "id": "BcT_KnTPDfiV",
        "outputId": "e397c329-a255-4241-bc9e-8e0f9422d705"
      },
      "execution_count": null,
      "outputs": [
        {
          "output_type": "execute_result",
          "data": {
            "text/plain": [
              "              carat         depth         table         price             x  \\\n",
              "count  43152.000000  43152.000000  43152.000000  43152.000000  43152.000000   \n",
              "mean       0.797855     61.747177     57.458347   3929.491912      5.732228   \n",
              "std        0.473594      1.435454      2.233904   3985.527795      1.119580   \n",
              "min        0.200000     43.000000     43.000000    326.000000      3.730000   \n",
              "25%        0.400000     61.000000     56.000000    947.750000      4.710000   \n",
              "50%        0.700000     61.800000     57.000000   2401.000000      5.700000   \n",
              "75%        1.040000     62.500000     59.000000   5312.000000      6.540000   \n",
              "max        5.010000     79.000000     95.000000  18823.000000     10.740000   \n",
              "\n",
              "                  y             z  \n",
              "count  43152.000000  43152.000000  \n",
              "mean       5.735547      3.539958  \n",
              "std        1.147481      0.704745  \n",
              "min        3.680000      1.070000  \n",
              "25%        4.720000      2.910000  \n",
              "50%        5.710000      3.530000  \n",
              "75%        6.540000      4.040000  \n",
              "max       58.900000     31.800000  "
            ],
            "text/html": [
              "\n",
              "  <div id=\"df-1ec31c16-84ef-4524-9864-27025dbeaaac\">\n",
              "    <div class=\"colab-df-container\">\n",
              "      <div>\n",
              "<style scoped>\n",
              "    .dataframe tbody tr th:only-of-type {\n",
              "        vertical-align: middle;\n",
              "    }\n",
              "\n",
              "    .dataframe tbody tr th {\n",
              "        vertical-align: top;\n",
              "    }\n",
              "\n",
              "    .dataframe thead th {\n",
              "        text-align: right;\n",
              "    }\n",
              "</style>\n",
              "<table border=\"1\" class=\"dataframe\">\n",
              "  <thead>\n",
              "    <tr style=\"text-align: right;\">\n",
              "      <th></th>\n",
              "      <th>carat</th>\n",
              "      <th>depth</th>\n",
              "      <th>table</th>\n",
              "      <th>price</th>\n",
              "      <th>x</th>\n",
              "      <th>y</th>\n",
              "      <th>z</th>\n",
              "    </tr>\n",
              "  </thead>\n",
              "  <tbody>\n",
              "    <tr>\n",
              "      <th>count</th>\n",
              "      <td>43152.000000</td>\n",
              "      <td>43152.000000</td>\n",
              "      <td>43152.000000</td>\n",
              "      <td>43152.000000</td>\n",
              "      <td>43152.000000</td>\n",
              "      <td>43152.000000</td>\n",
              "      <td>43152.000000</td>\n",
              "    </tr>\n",
              "    <tr>\n",
              "      <th>mean</th>\n",
              "      <td>0.797855</td>\n",
              "      <td>61.747177</td>\n",
              "      <td>57.458347</td>\n",
              "      <td>3929.491912</td>\n",
              "      <td>5.732228</td>\n",
              "      <td>5.735547</td>\n",
              "      <td>3.539958</td>\n",
              "    </tr>\n",
              "    <tr>\n",
              "      <th>std</th>\n",
              "      <td>0.473594</td>\n",
              "      <td>1.435454</td>\n",
              "      <td>2.233904</td>\n",
              "      <td>3985.527795</td>\n",
              "      <td>1.119580</td>\n",
              "      <td>1.147481</td>\n",
              "      <td>0.704745</td>\n",
              "    </tr>\n",
              "    <tr>\n",
              "      <th>min</th>\n",
              "      <td>0.200000</td>\n",
              "      <td>43.000000</td>\n",
              "      <td>43.000000</td>\n",
              "      <td>326.000000</td>\n",
              "      <td>3.730000</td>\n",
              "      <td>3.680000</td>\n",
              "      <td>1.070000</td>\n",
              "    </tr>\n",
              "    <tr>\n",
              "      <th>25%</th>\n",
              "      <td>0.400000</td>\n",
              "      <td>61.000000</td>\n",
              "      <td>56.000000</td>\n",
              "      <td>947.750000</td>\n",
              "      <td>4.710000</td>\n",
              "      <td>4.720000</td>\n",
              "      <td>2.910000</td>\n",
              "    </tr>\n",
              "    <tr>\n",
              "      <th>50%</th>\n",
              "      <td>0.700000</td>\n",
              "      <td>61.800000</td>\n",
              "      <td>57.000000</td>\n",
              "      <td>2401.000000</td>\n",
              "      <td>5.700000</td>\n",
              "      <td>5.710000</td>\n",
              "      <td>3.530000</td>\n",
              "    </tr>\n",
              "    <tr>\n",
              "      <th>75%</th>\n",
              "      <td>1.040000</td>\n",
              "      <td>62.500000</td>\n",
              "      <td>59.000000</td>\n",
              "      <td>5312.000000</td>\n",
              "      <td>6.540000</td>\n",
              "      <td>6.540000</td>\n",
              "      <td>4.040000</td>\n",
              "    </tr>\n",
              "    <tr>\n",
              "      <th>max</th>\n",
              "      <td>5.010000</td>\n",
              "      <td>79.000000</td>\n",
              "      <td>95.000000</td>\n",
              "      <td>18823.000000</td>\n",
              "      <td>10.740000</td>\n",
              "      <td>58.900000</td>\n",
              "      <td>31.800000</td>\n",
              "    </tr>\n",
              "  </tbody>\n",
              "</table>\n",
              "</div>\n",
              "      <button class=\"colab-df-convert\" onclick=\"convertToInteractive('df-1ec31c16-84ef-4524-9864-27025dbeaaac')\"\n",
              "              title=\"Convert this dataframe to an interactive table.\"\n",
              "              style=\"display:none;\">\n",
              "        \n",
              "  <svg xmlns=\"http://www.w3.org/2000/svg\" height=\"24px\"viewBox=\"0 0 24 24\"\n",
              "       width=\"24px\">\n",
              "    <path d=\"M0 0h24v24H0V0z\" fill=\"none\"/>\n",
              "    <path d=\"M18.56 5.44l.94 2.06.94-2.06 2.06-.94-2.06-.94-.94-2.06-.94 2.06-2.06.94zm-11 1L8.5 8.5l.94-2.06 2.06-.94-2.06-.94L8.5 2.5l-.94 2.06-2.06.94zm10 10l.94 2.06.94-2.06 2.06-.94-2.06-.94-.94-2.06-.94 2.06-2.06.94z\"/><path d=\"M17.41 7.96l-1.37-1.37c-.4-.4-.92-.59-1.43-.59-.52 0-1.04.2-1.43.59L10.3 9.45l-7.72 7.72c-.78.78-.78 2.05 0 2.83L4 21.41c.39.39.9.59 1.41.59.51 0 1.02-.2 1.41-.59l7.78-7.78 2.81-2.81c.8-.78.8-2.07 0-2.86zM5.41 20L4 18.59l7.72-7.72 1.47 1.35L5.41 20z\"/>\n",
              "  </svg>\n",
              "      </button>\n",
              "      \n",
              "  <style>\n",
              "    .colab-df-container {\n",
              "      display:flex;\n",
              "      flex-wrap:wrap;\n",
              "      gap: 12px;\n",
              "    }\n",
              "\n",
              "    .colab-df-convert {\n",
              "      background-color: #E8F0FE;\n",
              "      border: none;\n",
              "      border-radius: 50%;\n",
              "      cursor: pointer;\n",
              "      display: none;\n",
              "      fill: #1967D2;\n",
              "      height: 32px;\n",
              "      padding: 0 0 0 0;\n",
              "      width: 32px;\n",
              "    }\n",
              "\n",
              "    .colab-df-convert:hover {\n",
              "      background-color: #E2EBFA;\n",
              "      box-shadow: 0px 1px 2px rgba(60, 64, 67, 0.3), 0px 1px 3px 1px rgba(60, 64, 67, 0.15);\n",
              "      fill: #174EA6;\n",
              "    }\n",
              "\n",
              "    [theme=dark] .colab-df-convert {\n",
              "      background-color: #3B4455;\n",
              "      fill: #D2E3FC;\n",
              "    }\n",
              "\n",
              "    [theme=dark] .colab-df-convert:hover {\n",
              "      background-color: #434B5C;\n",
              "      box-shadow: 0px 1px 3px 1px rgba(0, 0, 0, 0.15);\n",
              "      filter: drop-shadow(0px 1px 2px rgba(0, 0, 0, 0.3));\n",
              "      fill: #FFFFFF;\n",
              "    }\n",
              "  </style>\n",
              "\n",
              "      <script>\n",
              "        const buttonEl =\n",
              "          document.querySelector('#df-1ec31c16-84ef-4524-9864-27025dbeaaac button.colab-df-convert');\n",
              "        buttonEl.style.display =\n",
              "          google.colab.kernel.accessAllowed ? 'block' : 'none';\n",
              "\n",
              "        async function convertToInteractive(key) {\n",
              "          const element = document.querySelector('#df-1ec31c16-84ef-4524-9864-27025dbeaaac');\n",
              "          const dataTable =\n",
              "            await google.colab.kernel.invokeFunction('convertToInteractive',\n",
              "                                                     [key], {});\n",
              "          if (!dataTable) return;\n",
              "\n",
              "          const docLinkHtml = 'Like what you see? Visit the ' +\n",
              "            '<a target=\"_blank\" href=https://colab.research.google.com/notebooks/data_table.ipynb>data table notebook</a>'\n",
              "            + ' to learn more about interactive tables.';\n",
              "          element.innerHTML = '';\n",
              "          dataTable['output_type'] = 'display_data';\n",
              "          await google.colab.output.renderOutput(dataTable, element);\n",
              "          const docLink = document.createElement('div');\n",
              "          docLink.innerHTML = docLinkHtml;\n",
              "          element.appendChild(docLink);\n",
              "        }\n",
              "      </script>\n",
              "    </div>\n",
              "  </div>\n",
              "  "
            ]
          },
          "metadata": {},
          "execution_count": 15
        }
      ]
    },
    {
      "cell_type": "code",
      "source": [
        "len(df.query(\"carat>3\"))"
      ],
      "metadata": {
        "colab": {
          "base_uri": "https://localhost:8080/"
        },
        "id": "b1TGXujzDigO",
        "outputId": "8a2637be-d358-4698-8eb7-8f5aebfc2688"
      },
      "execution_count": null,
      "outputs": [
        {
          "output_type": "execute_result",
          "data": {
            "text/plain": [
              "21"
            ]
          },
          "metadata": {},
          "execution_count": 16
        }
      ]
    },
    {
      "cell_type": "code",
      "source": [
        "#df.loc[df[df['carat']>3].index,'carat']=df['carat'].median()"
      ],
      "metadata": {
        "id": "0CDgYlOjDmqJ"
      },
      "execution_count": null,
      "outputs": []
    },
    {
      "cell_type": "code",
      "source": [
        "df['volume'] = df['x']*df['y']*df['z']\n",
        "df.drop(['x','y','z'], axis=1, inplace= True)\n",
        "df.head()"
      ],
      "metadata": {
        "colab": {
          "base_uri": "https://localhost:8080/",
          "height": 206
        },
        "id": "bKpdlCqsEd2e",
        "outputId": "8492c1a8-e836-49a5-848a-ef72c3e3d891"
      },
      "execution_count": null,
      "outputs": [
        {
          "output_type": "execute_result",
          "data": {
            "text/plain": [
              "   carat      cut color clarity  depth  table  price      volume\n",
              "0   1.06    Ideal     I     SI2   61.8   57.0   4270  176.483340\n",
              "1   1.51  Premium     G    VVS2   60.9   58.0  15164  246.965796\n",
              "2   0.32    Ideal     F     VS2   61.3   56.0    828   52.943373\n",
              "3   0.53    Ideal     G     VS2   61.2   56.0   1577   86.422842\n",
              "4   0.70  Premium     H    VVS2   61.0   57.0   2596  115.315200"
            ],
            "text/html": [
              "\n",
              "  <div id=\"df-f3948853-b957-418b-baee-6cca040e23b3\">\n",
              "    <div class=\"colab-df-container\">\n",
              "      <div>\n",
              "<style scoped>\n",
              "    .dataframe tbody tr th:only-of-type {\n",
              "        vertical-align: middle;\n",
              "    }\n",
              "\n",
              "    .dataframe tbody tr th {\n",
              "        vertical-align: top;\n",
              "    }\n",
              "\n",
              "    .dataframe thead th {\n",
              "        text-align: right;\n",
              "    }\n",
              "</style>\n",
              "<table border=\"1\" class=\"dataframe\">\n",
              "  <thead>\n",
              "    <tr style=\"text-align: right;\">\n",
              "      <th></th>\n",
              "      <th>carat</th>\n",
              "      <th>cut</th>\n",
              "      <th>color</th>\n",
              "      <th>clarity</th>\n",
              "      <th>depth</th>\n",
              "      <th>table</th>\n",
              "      <th>price</th>\n",
              "      <th>volume</th>\n",
              "    </tr>\n",
              "  </thead>\n",
              "  <tbody>\n",
              "    <tr>\n",
              "      <th>0</th>\n",
              "      <td>1.06</td>\n",
              "      <td>Ideal</td>\n",
              "      <td>I</td>\n",
              "      <td>SI2</td>\n",
              "      <td>61.8</td>\n",
              "      <td>57.0</td>\n",
              "      <td>4270</td>\n",
              "      <td>176.483340</td>\n",
              "    </tr>\n",
              "    <tr>\n",
              "      <th>1</th>\n",
              "      <td>1.51</td>\n",
              "      <td>Premium</td>\n",
              "      <td>G</td>\n",
              "      <td>VVS2</td>\n",
              "      <td>60.9</td>\n",
              "      <td>58.0</td>\n",
              "      <td>15164</td>\n",
              "      <td>246.965796</td>\n",
              "    </tr>\n",
              "    <tr>\n",
              "      <th>2</th>\n",
              "      <td>0.32</td>\n",
              "      <td>Ideal</td>\n",
              "      <td>F</td>\n",
              "      <td>VS2</td>\n",
              "      <td>61.3</td>\n",
              "      <td>56.0</td>\n",
              "      <td>828</td>\n",
              "      <td>52.943373</td>\n",
              "    </tr>\n",
              "    <tr>\n",
              "      <th>3</th>\n",
              "      <td>0.53</td>\n",
              "      <td>Ideal</td>\n",
              "      <td>G</td>\n",
              "      <td>VS2</td>\n",
              "      <td>61.2</td>\n",
              "      <td>56.0</td>\n",
              "      <td>1577</td>\n",
              "      <td>86.422842</td>\n",
              "    </tr>\n",
              "    <tr>\n",
              "      <th>4</th>\n",
              "      <td>0.70</td>\n",
              "      <td>Premium</td>\n",
              "      <td>H</td>\n",
              "      <td>VVS2</td>\n",
              "      <td>61.0</td>\n",
              "      <td>57.0</td>\n",
              "      <td>2596</td>\n",
              "      <td>115.315200</td>\n",
              "    </tr>\n",
              "  </tbody>\n",
              "</table>\n",
              "</div>\n",
              "      <button class=\"colab-df-convert\" onclick=\"convertToInteractive('df-f3948853-b957-418b-baee-6cca040e23b3')\"\n",
              "              title=\"Convert this dataframe to an interactive table.\"\n",
              "              style=\"display:none;\">\n",
              "        \n",
              "  <svg xmlns=\"http://www.w3.org/2000/svg\" height=\"24px\"viewBox=\"0 0 24 24\"\n",
              "       width=\"24px\">\n",
              "    <path d=\"M0 0h24v24H0V0z\" fill=\"none\"/>\n",
              "    <path d=\"M18.56 5.44l.94 2.06.94-2.06 2.06-.94-2.06-.94-.94-2.06-.94 2.06-2.06.94zm-11 1L8.5 8.5l.94-2.06 2.06-.94-2.06-.94L8.5 2.5l-.94 2.06-2.06.94zm10 10l.94 2.06.94-2.06 2.06-.94-2.06-.94-.94-2.06-.94 2.06-2.06.94z\"/><path d=\"M17.41 7.96l-1.37-1.37c-.4-.4-.92-.59-1.43-.59-.52 0-1.04.2-1.43.59L10.3 9.45l-7.72 7.72c-.78.78-.78 2.05 0 2.83L4 21.41c.39.39.9.59 1.41.59.51 0 1.02-.2 1.41-.59l7.78-7.78 2.81-2.81c.8-.78.8-2.07 0-2.86zM5.41 20L4 18.59l7.72-7.72 1.47 1.35L5.41 20z\"/>\n",
              "  </svg>\n",
              "      </button>\n",
              "      \n",
              "  <style>\n",
              "    .colab-df-container {\n",
              "      display:flex;\n",
              "      flex-wrap:wrap;\n",
              "      gap: 12px;\n",
              "    }\n",
              "\n",
              "    .colab-df-convert {\n",
              "      background-color: #E8F0FE;\n",
              "      border: none;\n",
              "      border-radius: 50%;\n",
              "      cursor: pointer;\n",
              "      display: none;\n",
              "      fill: #1967D2;\n",
              "      height: 32px;\n",
              "      padding: 0 0 0 0;\n",
              "      width: 32px;\n",
              "    }\n",
              "\n",
              "    .colab-df-convert:hover {\n",
              "      background-color: #E2EBFA;\n",
              "      box-shadow: 0px 1px 2px rgba(60, 64, 67, 0.3), 0px 1px 3px 1px rgba(60, 64, 67, 0.15);\n",
              "      fill: #174EA6;\n",
              "    }\n",
              "\n",
              "    [theme=dark] .colab-df-convert {\n",
              "      background-color: #3B4455;\n",
              "      fill: #D2E3FC;\n",
              "    }\n",
              "\n",
              "    [theme=dark] .colab-df-convert:hover {\n",
              "      background-color: #434B5C;\n",
              "      box-shadow: 0px 1px 3px 1px rgba(0, 0, 0, 0.15);\n",
              "      filter: drop-shadow(0px 1px 2px rgba(0, 0, 0, 0.3));\n",
              "      fill: #FFFFFF;\n",
              "    }\n",
              "  </style>\n",
              "\n",
              "      <script>\n",
              "        const buttonEl =\n",
              "          document.querySelector('#df-f3948853-b957-418b-baee-6cca040e23b3 button.colab-df-convert');\n",
              "        buttonEl.style.display =\n",
              "          google.colab.kernel.accessAllowed ? 'block' : 'none';\n",
              "\n",
              "        async function convertToInteractive(key) {\n",
              "          const element = document.querySelector('#df-f3948853-b957-418b-baee-6cca040e23b3');\n",
              "          const dataTable =\n",
              "            await google.colab.kernel.invokeFunction('convertToInteractive',\n",
              "                                                     [key], {});\n",
              "          if (!dataTable) return;\n",
              "\n",
              "          const docLinkHtml = 'Like what you see? Visit the ' +\n",
              "            '<a target=\"_blank\" href=https://colab.research.google.com/notebooks/data_table.ipynb>data table notebook</a>'\n",
              "            + ' to learn more about interactive tables.';\n",
              "          element.innerHTML = '';\n",
              "          dataTable['output_type'] = 'display_data';\n",
              "          await google.colab.output.renderOutput(dataTable, element);\n",
              "          const docLink = document.createElement('div');\n",
              "          docLink.innerHTML = docLinkHtml;\n",
              "          element.appendChild(docLink);\n",
              "        }\n",
              "      </script>\n",
              "    </div>\n",
              "  </div>\n",
              "  "
            ]
          },
          "metadata": {},
          "execution_count": 18
        }
      ]
    },
    {
      "cell_type": "code",
      "source": [
        "X = df.drop(['price'], axis=1)\n",
        "y = df['price']\n",
        "\n",
        "X_train, X_vali, y_train, y_vali = train_test_split(X,y,test_size=0.2, random_state=42)"
      ],
      "metadata": {
        "id": "1ieeRG-MEj68"
      },
      "execution_count": null,
      "outputs": []
    },
    {
      "cell_type": "code",
      "source": [
        "label_cut = preprocessing.LabelEncoder()\n",
        "label_color = preprocessing.LabelEncoder()\n",
        "label_clarity = preprocessing.LabelEncoder()\n",
        "\n",
        "\n",
        "X_train['cut'] = label_cut.fit_transform(X_train['cut'])\n",
        "X_train['color'] = label_color.fit_transform(X_train['color'])\n",
        "X_train['clarity'] = label_clarity.fit_transform(X_train['clarity'])"
      ],
      "metadata": {
        "id": "6OqLYX0WD-mx"
      },
      "execution_count": null,
      "outputs": []
    },
    {
      "cell_type": "code",
      "source": [
        "X_vali['cut'] = label_cut.transform(X_vali['cut'])\n",
        "X_vali['color'] = label_color.transform(X_vali['color'])\n",
        "X_vali['clarity'] = label_clarity.transform(X_vali['clarity'])"
      ],
      "metadata": {
        "id": "p2L8SxfREXfn"
      },
      "execution_count": null,
      "outputs": []
    },
    {
      "cell_type": "code",
      "source": [
        "sc = MinMaxScaler()\n",
        "X_train = sc.fit_transform(X_train)\n",
        "X_vali = sc.transform(X_vali)"
      ],
      "metadata": {
        "id": "I2iRg4WZE3eu"
      },
      "execution_count": null,
      "outputs": []
    },
    {
      "cell_type": "code",
      "source": [
        "df = pd.read_csv('test.csv')\n",
        "Id = df['Id']\n",
        "df.drop('Id',axis=1,inplace=True)\n",
        "#*************\n",
        "df.loc[df[(df['z']==0)].index,'z']=df['z'].median()\n",
        "df.loc[df[df['x']==0].index,'x']=df['x'].median()\n",
        "df.loc[df[(df['y']==0)].index,'y']=df['y'].median() \n",
        "#****************\n",
        "#df.loc[df[df['carat']>3].index,'carat']=df['carat'].median()\n",
        "#**************\n",
        "df['volume'] = df['x']*df['y']*df['z']\n",
        "df.drop(['x','y','z'], axis=1, inplace= True)\n",
        "#********************\n",
        "df['cut'] = label_cut.transform(df['cut'])\n",
        "df['color'] = label_color.transform(df['color'])\n",
        "df['clarity'] = label_clarity.transform(df['clarity'])\n",
        "#*************\n",
        "test = sc.transform(df)"
      ],
      "metadata": {
        "id": "6Y_BoA_hIqEw"
      },
      "execution_count": null,
      "outputs": []
    },
    {
      "cell_type": "code",
      "source": [
        "#no_of_test=[100]\n",
        "#params_dict={'n_estimators':no_of_test,'n_jobs':[-1],'max_features':[\"auto\",'sqrt','log2']}\n",
        "#clf_rf=GridSearchCV(estimator=RandomForestRegressor(),param_grid=params_dict,scoring='r2')\n",
        "#clf_rf.fit(X_train,y_train)\n",
        "#print('Score : %.4f' % clf_rf.score(X_vali, y_vali))\n",
        "#pred=clf_rf.predict(X_vali)\n",
        "#r2 = r2_score(y_vali, pred)\n",
        "#print('R2     : %0.2f ' % r2)\n"
      ],
      "metadata": {
        "id": "k_AR9xngE9Al"
      },
      "execution_count": null,
      "outputs": []
    },
    {
      "cell_type": "code",
      "source": [
        "#y_test_predict = clf_rf.predict(test)\n",
        "#0.9810\n",
        "#R2     : 0.98 "
      ],
      "metadata": {
        "id": "u9S_sv68JAw8"
      },
      "execution_count": null,
      "outputs": []
    },
    {
      "cell_type": "code",
      "source": [
        "#R = pd.DataFrame({'Id' : Id , 'price' : y_test_predict})\n",
        "#R.to_csv(\"GridSearchCV-random-result.csv\" , index=False) "
      ],
      "metadata": {
        "id": "CXt69VEVGKL1"
      },
      "execution_count": null,
      "outputs": []
    },
    {
      "cell_type": "code",
      "source": [
        "import xgboost as xgb\n",
        "dtrain = xgb.DMatrix(X_train, label=y_train)\n",
        "dtest = xgb.DMatrix(X_vali, label=y_vali)\n",
        "test=xgb.DMatrix(test)"
      ],
      "metadata": {
        "id": "4JmGmkbVH3QF"
      },
      "execution_count": null,
      "outputs": []
    },
    {
      "cell_type": "code",
      "source": [
        "params = {\n",
        "    # Parameters that we are going to tune.\n",
        "    'max_depth':10,\n",
        "    \"learning_rate\" :0.1,\n",
        "    'min_child_weight': 1,\n",
        "    'eta':.3,\n",
        "    'subsample': 1,\n",
        "    'colsample_bytree': 1,\n",
        "    \"n_estimators\" : 500,\n",
        "    'objective':'reg:squarederror',\n",
        "}"
      ],
      "metadata": {
        "id": "LbZ-PMTETScA"
      },
      "execution_count": null,
      "outputs": []
    },
    {
      "cell_type": "code",
      "source": [
        "params['eval_metric'] = \"mae\"\n",
        "num_boost_round = 999"
      ],
      "metadata": {
        "id": "1HEkn6pRTXuU"
      },
      "execution_count": null,
      "outputs": []
    },
    {
      "cell_type": "code",
      "source": [
        "model = xgb.train(\n",
        "    params,\n",
        "    dtrain,\n",
        "    num_boost_round=num_boost_round,\n",
        "    evals=[(dtest, \"Test\")],\n",
        "    early_stopping_rounds=10\n",
        ")"
      ],
      "metadata": {
        "colab": {
          "base_uri": "https://localhost:8080/"
        },
        "id": "ZeJiCw8FUKi5",
        "outputId": "4f36ca2e-fcfc-41f6-dfae-52b18fec32af"
      },
      "execution_count": null,
      "outputs": [
        {
          "output_type": "stream",
          "name": "stdout",
          "text": [
            "[11:41:08] WARNING: ../src/learner.cc:767: \n",
            "Parameters: { \"n_estimators\" } are not used.\n",
            "\n",
            "[0]\tTest-mae:3531.48130\n",
            "[1]\tTest-mae:3180.48638\n",
            "[2]\tTest-mae:2864.68942\n",
            "[3]\tTest-mae:2580.03888\n",
            "[4]\tTest-mae:2323.68229\n",
            "[5]\tTest-mae:2093.37592\n",
            "[6]\tTest-mae:1886.36239\n",
            "[7]\tTest-mae:1699.92522\n",
            "[8]\tTest-mae:1531.71312\n",
            "[9]\tTest-mae:1380.69379\n",
            "[10]\tTest-mae:1244.68698\n",
            "[11]\tTest-mae:1122.58181\n",
            "[12]\tTest-mae:1014.27092\n",
            "[13]\tTest-mae:917.87482\n",
            "[14]\tTest-mae:832.65636\n",
            "[15]\tTest-mae:757.06259\n",
            "[16]\tTest-mae:690.16512\n",
            "[17]\tTest-mae:631.19603\n",
            "[18]\tTest-mae:580.07490\n",
            "[19]\tTest-mae:535.44466\n",
            "[20]\tTest-mae:496.78749\n",
            "[21]\tTest-mae:462.99768\n",
            "[22]\tTest-mae:434.36768\n",
            "[23]\tTest-mae:409.62308\n",
            "[24]\tTest-mae:388.58993\n",
            "[25]\tTest-mae:370.37275\n",
            "[26]\tTest-mae:354.94072\n",
            "[27]\tTest-mae:341.97114\n",
            "[28]\tTest-mae:330.79413\n",
            "[29]\tTest-mae:321.17339\n",
            "[30]\tTest-mae:313.28258\n",
            "[31]\tTest-mae:306.56089\n",
            "[32]\tTest-mae:300.86308\n",
            "[33]\tTest-mae:296.14720\n",
            "[34]\tTest-mae:292.00106\n",
            "[35]\tTest-mae:288.56223\n",
            "[36]\tTest-mae:285.59005\n",
            "[37]\tTest-mae:282.87016\n",
            "[38]\tTest-mae:280.76739\n",
            "[39]\tTest-mae:278.88435\n",
            "[40]\tTest-mae:277.34633\n",
            "[41]\tTest-mae:276.11732\n",
            "[42]\tTest-mae:274.87304\n",
            "[43]\tTest-mae:274.06075\n",
            "[44]\tTest-mae:273.23617\n",
            "[45]\tTest-mae:272.51867\n",
            "[46]\tTest-mae:271.82101\n",
            "[47]\tTest-mae:271.33227\n",
            "[48]\tTest-mae:270.86916\n",
            "[49]\tTest-mae:270.49734\n",
            "[50]\tTest-mae:270.19588\n",
            "[51]\tTest-mae:269.80402\n",
            "[52]\tTest-mae:269.65664\n",
            "[53]\tTest-mae:269.23240\n",
            "[54]\tTest-mae:269.07526\n",
            "[55]\tTest-mae:268.95465\n",
            "[56]\tTest-mae:268.83507\n",
            "[57]\tTest-mae:268.62641\n",
            "[58]\tTest-mae:268.50900\n",
            "[59]\tTest-mae:268.43916\n",
            "[60]\tTest-mae:268.30729\n",
            "[61]\tTest-mae:268.29151\n",
            "[62]\tTest-mae:268.21009\n",
            "[63]\tTest-mae:268.17520\n",
            "[64]\tTest-mae:268.20451\n",
            "[65]\tTest-mae:267.95732\n",
            "[66]\tTest-mae:267.98841\n",
            "[67]\tTest-mae:267.95566\n",
            "[68]\tTest-mae:267.89774\n",
            "[69]\tTest-mae:267.91102\n",
            "[70]\tTest-mae:267.91576\n",
            "[71]\tTest-mae:267.93968\n",
            "[72]\tTest-mae:267.86963\n",
            "[73]\tTest-mae:267.82926\n",
            "[74]\tTest-mae:267.72948\n",
            "[75]\tTest-mae:267.73520\n",
            "[76]\tTest-mae:267.64610\n",
            "[77]\tTest-mae:267.71632\n",
            "[78]\tTest-mae:267.68928\n",
            "[79]\tTest-mae:267.57903\n",
            "[80]\tTest-mae:267.46373\n",
            "[81]\tTest-mae:267.48421\n",
            "[82]\tTest-mae:267.48767\n",
            "[83]\tTest-mae:267.52340\n",
            "[84]\tTest-mae:267.50726\n",
            "[85]\tTest-mae:267.31807\n",
            "[86]\tTest-mae:267.30287\n",
            "[87]\tTest-mae:267.31350\n",
            "[88]\tTest-mae:267.30964\n",
            "[89]\tTest-mae:267.18644\n",
            "[90]\tTest-mae:267.17979\n",
            "[91]\tTest-mae:267.15465\n",
            "[92]\tTest-mae:267.12287\n",
            "[93]\tTest-mae:267.20822\n",
            "[94]\tTest-mae:267.27250\n",
            "[95]\tTest-mae:267.32370\n",
            "[96]\tTest-mae:267.34077\n",
            "[97]\tTest-mae:267.35322\n",
            "[98]\tTest-mae:267.37886\n",
            "[99]\tTest-mae:267.32712\n",
            "[100]\tTest-mae:267.36478\n",
            "[101]\tTest-mae:267.36712\n"
          ]
        }
      ]
    },
    {
      "cell_type": "code",
      "source": [
        "print(\"Best MAE: {:.2f} with {} rounds\".format(\n",
        "                 model.best_score,\n",
        "                 model.best_iteration+1))\n"
      ],
      "metadata": {
        "colab": {
          "base_uri": "https://localhost:8080/"
        },
        "id": "m6Yq4iXRUTPx",
        "outputId": "6f1e162a-a8c1-4c6e-9160-e5192388566f"
      },
      "execution_count": null,
      "outputs": [
        {
          "output_type": "stream",
          "name": "stdout",
          "text": [
            "Best MAE: 267.12 with 93 rounds\n"
          ]
        }
      ]
    },
    {
      "cell_type": "code",
      "source": [
        "y_test_predict=model.predict(test)"
      ],
      "metadata": {
        "id": "ze-f9Lv-UfCp"
      },
      "execution_count": null,
      "outputs": []
    },
    {
      "cell_type": "code",
      "source": [
        "R = pd.DataFrame({'Id' : Id , 'price' : y_test_predict})\n",
        "R.to_csv(\"Xgb-median-MinMaxScaler-result1.csv\" , index=False) "
      ],
      "metadata": {
        "id": "mXWPd-JAUtty"
      },
      "execution_count": null,
      "outputs": []
    },
    {
      "cell_type": "code",
      "source": [],
      "metadata": {
        "id": "ny2hlT9pZ-81"
      },
      "execution_count": null,
      "outputs": []
    },
    {
      "cell_type": "code",
      "source": [],
      "metadata": {
        "id": "1DUBCoNxBaIq"
      },
      "execution_count": null,
      "outputs": []
    },
    {
      "cell_type": "code",
      "source": [],
      "metadata": {
        "id": "7nZD3ExmCXyc"
      },
      "execution_count": null,
      "outputs": []
    },
    {
      "cell_type": "code",
      "source": [],
      "metadata": {
        "id": "WZfbFohID0aq"
      },
      "execution_count": null,
      "outputs": []
    },
    {
      "cell_type": "code",
      "source": [],
      "metadata": {
        "id": "9LBjnFR-Eyq-"
      },
      "execution_count": null,
      "outputs": []
    }
  ]
}